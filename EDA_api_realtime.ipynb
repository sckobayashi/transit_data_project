{
 "cells": [
  {
   "cell_type": "code",
   "execution_count": 45,
   "metadata": {},
   "outputs": [],
   "source": [
    "import pandas as pd\n",
    "import json\n",
    "\n",
    "file_path = 'api_responses/STIF_StopArea_SP_62892__STIF_Line__C01743__20231129_210201.json'\n",
    "\n",
    "try:\n",
    "    with open(file_path, 'r', encoding='utf-8') as file:\n",
    "        data = json.load(file)\n",
    "    # Process the data here\n",
    "except json.JSONDecodeError as e:\n",
    "    print(f\"Error decoding JSON in file: {e}\")\n",
    "    # Handle the error or take appropriate action\n",
    "except FileNotFoundError:\n",
    "    print(f\"File not found: {file_path}\")\n",
    "    # Handle the file not found error or take appropriate action\n",
    "except Exception as e:\n",
    "    print(f\"An unexpected error occurred: {e}\")\n",
    "    # Handle other unexpected errors"
   ]
  },
  {
   "cell_type": "code",
   "execution_count": 46,
   "metadata": {},
   "outputs": [],
   "source": [
    "# Extracting relevant data\n",
    "service_delivery = data[\"Siri\"][\"ServiceDelivery\"]\n",
    "monitored_stop_visits = service_delivery[\"StopMonitoringDelivery\"][0][\"MonitoredStopVisit\"]\n",
    "\n",
    "# Flattening nested structures\n",
    "df = pd.json_normalize(monitored_stop_visits, sep='_')\n",
    "# Flattening nested structures\n",
    "df['ResponseTimestamp'] = service_delivery['ResponseTimestamp']"
   ]
  },
  {
   "cell_type": "code",
   "execution_count": 48,
   "metadata": {},
   "outputs": [],
   "source": [
    "# Replace specified strings in column names\n",
    "str_replace = ['FramedVehicleJourneyRef_', 'MonitoredVehicleJourney_', 'MonitoredCall_', '_value']\n",
    "\n",
    "for i in str_replace: \n",
    "    df.columns = df.columns.str.replace(i, '')"
   ]
  },
  {
   "cell_type": "code",
   "execution_count": 51,
   "metadata": {},
   "outputs": [],
   "source": [
    "# Drop columns\n",
    "columns_to_drop = ['DataFrameRef', 'ArrivalStatus', 'TrainNumbers_TrainNumberRef']\n",
    "df = df.drop(columns_to_drop, axis=1)"
   ]
  },
  {
   "cell_type": "code",
   "execution_count": 55,
   "metadata": {},
   "outputs": [],
   "source": [
    "# Convert date columns to datetime format\n",
    "date_columns = [\"RecordedAtTime\", \"ExpectedArrivalTime\", \"ExpectedDepartureTime\", \"ResponseTimestamp\"]\n",
    "df[date_columns] = df[date_columns].apply(pd.to_datetime)"
   ]
  },
  {
   "cell_type": "code",
   "execution_count": 61,
   "metadata": {},
   "outputs": [],
   "source": [
    "# Convert date columns to GMT+1\n",
    "gmt_date_columns = [\"RecordedAtTime\", \"ExpectedArrivalTime\", \"ExpectedDepartureTime\"]\n",
    "df[gmt_date_columns] = df[gmt_date_columns].apply(lambda x: x.dt.tz_convert('Europe/Paris'))"
   ]
  }
 ],
 "metadata": {
  "kernelspec": {
   "display_name": ".transit_env",
   "language": "python",
   "name": "python3"
  },
  "language_info": {
   "codemirror_mode": {
    "name": "ipython",
    "version": 3
   },
   "file_extension": ".py",
   "mimetype": "text/x-python",
   "name": "python",
   "nbconvert_exporter": "python",
   "pygments_lexer": "ipython3",
   "version": "3.10.12"
  }
 },
 "nbformat": 4,
 "nbformat_minor": 2
}
