{
 "cells": [
  {
   "cell_type": "code",
   "execution_count": 1,
   "metadata": {},
   "outputs": [],
   "source": [
    "import polars as pl"
   ]
  },
  {
   "cell_type": "code",
   "execution_count": 2,
   "metadata": {},
   "outputs": [],
   "source": [
    "# stop_t = pl.scan_csv('IDFM-gtfs/stop_times.txt', separator=',')\n",
    "# stops = pl.scan_csv('IDFM-gtfs/stops.txt', separator=',')\n",
    "# trips = pl.scan_csv('IDFM-gtfs/trips.txt', separator=',')\n",
    "# calendar = pl.scan_csv('IDFM-gtfs/calendar.txt', separator=',')\n",
    "# calendar_dates = pl.scan_csv('IDFM-gtfs/calendar_dates.txt', separator=',')"
   ]
  },
  {
   "cell_type": "code",
   "execution_count": 77,
   "metadata": {},
   "outputs": [],
   "source": [
    "# Parameters\n",
    "\n",
    "# Columns\n",
    "col_stop_t = ['trip_id', 'arrival_time', 'departure_time', 'stop_id', 'stop_sequence', 'stop_sequence',\t'pickup_type', 'drop_off_type', 'timepoint']\n",
    "col_stops = ['stop_id', 'stop_name']\n",
    "col_trips = ['route_id', 'service_id', 'trip_id', 'direction_id']\n",
    "col_calendar = ['service_id', 'monday', 'tuesday', 'wednesday', 'thursday', 'friday', 'saturday', 'sunday', 'start_date', 'end_date']\n",
    "col_calendar_dates = ['service_id', 'date', 'exception_type']\n",
    "\n",
    "# RER B specific\n",
    "line_b = 'C01743' # RER B's ID_Line"
   ]
  },
  {
   "cell_type": "markdown",
   "metadata": {},
   "source": [
    "# EDA"
   ]
  },
  {
   "cell_type": "markdown",
   "metadata": {},
   "source": [
    "## stop_times.txt"
   ]
  },
  {
   "cell_type": "code",
   "execution_count": 37,
   "metadata": {},
   "outputs": [],
   "source": [
    "stop_t = pl.read_csv('IDFM-gtfs/stop_times.txt', separator=',')"
   ]
  },
  {
   "cell_type": "code",
   "execution_count": 40,
   "metadata": {},
   "outputs": [
    {
     "data": {
      "text/html": [
       "<div><style>\n",
       ".dataframe > thead > tr,\n",
       ".dataframe > tbody > tr {\n",
       "  text-align: right;\n",
       "  white-space: pre-wrap;\n",
       "}\n",
       "</style>\n",
       "<small>shape: (9, 11)</small><table border=\"1\" class=\"dataframe\"><thead><tr><th>describe</th><th>trip_id</th><th>arrival_time</th><th>departure_time</th><th>stop_id</th><th>stop_sequence</th><th>pickup_type</th><th>drop_off_type</th><th>local_zone_id</th><th>stop_headsign</th><th>timepoint</th></tr><tr><td>str</td><td>str</td><td>str</td><td>str</td><td>str</td><td>f64</td><td>f64</td><td>f64</td><td>str</td><td>str</td><td>f64</td></tr></thead><tbody><tr><td>&quot;count&quot;</td><td>&quot;7102994&quot;</td><td>&quot;7102994&quot;</td><td>&quot;7102994&quot;</td><td>&quot;7102994&quot;</td><td>7.102994e6</td><td>7.102994e6</td><td>7.102994e6</td><td>&quot;7102994&quot;</td><td>&quot;7102994&quot;</td><td>7.102994e6</td></tr><tr><td>&quot;null_count&quot;</td><td>&quot;0&quot;</td><td>&quot;0&quot;</td><td>&quot;0&quot;</td><td>&quot;0&quot;</td><td>0.0</td><td>0.0</td><td>0.0</td><td>&quot;7102994&quot;</td><td>&quot;7102994&quot;</td><td>0.0</td></tr><tr><td>&quot;mean&quot;</td><td>null</td><td>null</td><td>null</td><td>null</td><td>13.022972</td><td>0.04569</td><td>0.045787</td><td>null</td><td>null</td><td>1.0</td></tr><tr><td>&quot;std&quot;</td><td>null</td><td>null</td><td>null</td><td>null</td><td>9.408493</td><td>0.208812</td><td>0.209023</td><td>null</td><td>null</td><td>0.0</td></tr><tr><td>&quot;min&quot;</td><td>&quot;IDFM:ADP:5340-…</td><td>&quot;00:00:00&quot;</td><td>&quot;00:00:00&quot;</td><td>&quot;IDFM:10001&quot;</td><td>0.0</td><td>0.0</td><td>0.0</td><td>null</td><td>null</td><td>1.0</td></tr><tr><td>&quot;25%&quot;</td><td>null</td><td>null</td><td>null</td><td>null</td><td>5.0</td><td>0.0</td><td>0.0</td><td>null</td><td>null</td><td>1.0</td></tr><tr><td>&quot;50%&quot;</td><td>null</td><td>null</td><td>null</td><td>null</td><td>12.0</td><td>0.0</td><td>0.0</td><td>null</td><td>null</td><td>1.0</td></tr><tr><td>&quot;75%&quot;</td><td>null</td><td>null</td><td>null</td><td>null</td><td>19.0</td><td>0.0</td><td>0.0</td><td>null</td><td>null</td><td>1.0</td></tr><tr><td>&quot;max&quot;</td><td>&quot;IDFM:stif:loca…</td><td>&quot;39:40:00&quot;</td><td>&quot;39:40:00&quot;</td><td>&quot;IDFM:monomodal…</td><td>84.0</td><td>1.0</td><td>1.0</td><td>null</td><td>null</td><td>1.0</td></tr></tbody></table></div>"
      ],
      "text/plain": [
       "shape: (9, 11)\n",
       "┌───────────┬───────────┬───────────┬───────────┬───┬───────────┬───────────┬───────────┬──────────┐\n",
       "│ describe  ┆ trip_id   ┆ arrival_t ┆ departure ┆ … ┆ drop_off_ ┆ local_zon ┆ stop_head ┆ timepoin │\n",
       "│ ---       ┆ ---       ┆ ime       ┆ _time     ┆   ┆ type      ┆ e_id      ┆ sign      ┆ t        │\n",
       "│ str       ┆ str       ┆ ---       ┆ ---       ┆   ┆ ---       ┆ ---       ┆ ---       ┆ ---      │\n",
       "│           ┆           ┆ str       ┆ str       ┆   ┆ f64       ┆ str       ┆ str       ┆ f64      │\n",
       "╞═══════════╪═══════════╪═══════════╪═══════════╪═══╪═══════════╪═══════════╪═══════════╪══════════╡\n",
       "│ count     ┆ 7102994   ┆ 7102994   ┆ 7102994   ┆ … ┆ 7.102994e ┆ 7102994   ┆ 7102994   ┆ 7.102994 │\n",
       "│           ┆           ┆           ┆           ┆   ┆ 6         ┆           ┆           ┆ e6       │\n",
       "│ null_coun ┆ 0         ┆ 0         ┆ 0         ┆ … ┆ 0.0       ┆ 7102994   ┆ 7102994   ┆ 0.0      │\n",
       "│ t         ┆           ┆           ┆           ┆   ┆           ┆           ┆           ┆          │\n",
       "│ mean      ┆ null      ┆ null      ┆ null      ┆ … ┆ 0.045787  ┆ null      ┆ null      ┆ 1.0      │\n",
       "│ std       ┆ null      ┆ null      ┆ null      ┆ … ┆ 0.209023  ┆ null      ┆ null      ┆ 0.0      │\n",
       "│ min       ┆ IDFM:ADP: ┆ 00:00:00  ┆ 00:00:00  ┆ … ┆ 0.0       ┆ null      ┆ null      ┆ 1.0      │\n",
       "│           ┆ 5340-C005 ┆           ┆           ┆   ┆           ┆           ┆           ┆          │\n",
       "│           ┆ 62-761    ┆           ┆           ┆   ┆           ┆           ┆           ┆          │\n",
       "│ 25%       ┆ null      ┆ null      ┆ null      ┆ … ┆ 0.0       ┆ null      ┆ null      ┆ 1.0      │\n",
       "│ 50%       ┆ null      ┆ null      ┆ null      ┆ … ┆ 0.0       ┆ null      ┆ null      ┆ 1.0      │\n",
       "│ 75%       ┆ null      ┆ null      ┆ null      ┆ … ┆ 0.0       ┆ null      ┆ null      ┆ 1.0      │\n",
       "│ max       ┆ IDFM:stif ┆ 39:40:00  ┆ 39:40:00  ┆ … ┆ 1.0       ┆ null      ┆ null      ┆ 1.0      │\n",
       "│           ┆ :local-98 ┆           ┆           ┆   ┆           ┆           ┆           ┆          │\n",
       "│           ┆ 405-C0230 ┆           ┆           ┆   ┆           ┆           ┆           ┆          │\n",
       "│           ┆ 4-626…    ┆           ┆           ┆   ┆           ┆           ┆           ┆          │\n",
       "└───────────┴───────────┴───────────┴───────────┴───┴───────────┴───────────┴───────────┴──────────┘"
      ]
     },
     "execution_count": 40,
     "metadata": {},
     "output_type": "execute_result"
    }
   ],
   "source": [
    "stop_t.describe()"
   ]
  },
  {
   "cell_type": "code",
   "execution_count": 52,
   "metadata": {},
   "outputs": [
    {
     "data": {
      "text/plain": [
       "324058"
      ]
     },
     "execution_count": 52,
     "metadata": {},
     "output_type": "execute_result"
    }
   ],
   "source": [
    "stop_t.select('trip_id').n_unique()"
   ]
  },
  {
   "cell_type": "markdown",
   "metadata": {},
   "source": [
    "Trip_id is not the primar key  which is obvious because there are several stops for a single trip.\n",
    "Let's try trip_id x stop_id"
   ]
  },
  {
   "cell_type": "code",
   "execution_count": 54,
   "metadata": {},
   "outputs": [
    {
     "data": {
      "text/plain": [
       "7094671"
      ]
     },
     "execution_count": 54,
     "metadata": {},
     "output_type": "execute_result"
    }
   ],
   "source": [
    "stop_t.select(['trip_id', 'stop_id']).n_unique()"
   ]
  },
  {
   "cell_type": "markdown",
   "metadata": {},
   "source": [
    "Let's crunch the duplicated rows"
   ]
  },
  {
   "cell_type": "code",
   "execution_count": 62,
   "metadata": {},
   "outputs": [
    {
     "data": {
      "text/html": [
       "<div><style>\n",
       ".dataframe > thead > tr,\n",
       ".dataframe > tbody > tr {\n",
       "  text-align: right;\n",
       "  white-space: pre-wrap;\n",
       "}\n",
       "</style>\n",
       "<small>shape: (16_553, 10)</small><table border=\"1\" class=\"dataframe\"><thead><tr><th>trip_id</th><th>arrival_time</th><th>departure_time</th><th>stop_id</th><th>stop_sequence</th><th>pickup_type</th><th>drop_off_type</th><th>local_zone_id</th><th>stop_headsign</th><th>timepoint</th></tr><tr><td>str</td><td>str</td><td>str</td><td>str</td><td>i64</td><td>i64</td><td>i64</td><td>str</td><td>str</td><td>i64</td></tr></thead><tbody><tr><td>&quot;IDFM:ADP:5340-…</td><td>&quot;04:00:00&quot;</td><td>&quot;04:00:00&quot;</td><td>&quot;IDFM:10228&quot;</td><td>0</td><td>0</td><td>1</td><td>null</td><td>null</td><td>1</td></tr><tr><td>&quot;IDFM:ADP:5340-…</td><td>&quot;04:15:00&quot;</td><td>&quot;04:15:00&quot;</td><td>&quot;IDFM:10228&quot;</td><td>9</td><td>1</td><td>0</td><td>null</td><td>null</td><td>1</td></tr><tr><td>&quot;IDFM:ADP:5340-…</td><td>&quot;04:07:00&quot;</td><td>&quot;04:07:00&quot;</td><td>&quot;IDFM:10228&quot;</td><td>0</td><td>0</td><td>1</td><td>null</td><td>null</td><td>1</td></tr><tr><td>&quot;IDFM:ADP:5340-…</td><td>&quot;04:22:00&quot;</td><td>&quot;04:22:00&quot;</td><td>&quot;IDFM:10228&quot;</td><td>9</td><td>1</td><td>0</td><td>null</td><td>null</td><td>1</td></tr><tr><td>&quot;IDFM:ADP:5340-…</td><td>&quot;04:14:00&quot;</td><td>&quot;04:14:00&quot;</td><td>&quot;IDFM:10228&quot;</td><td>0</td><td>0</td><td>1</td><td>null</td><td>null</td><td>1</td></tr><tr><td>&quot;IDFM:ADP:5340-…</td><td>&quot;04:29:00&quot;</td><td>&quot;04:29:00&quot;</td><td>&quot;IDFM:10228&quot;</td><td>9</td><td>1</td><td>0</td><td>null</td><td>null</td><td>1</td></tr><tr><td>&quot;IDFM:ADP:5340-…</td><td>&quot;04:21:00&quot;</td><td>&quot;04:21:00&quot;</td><td>&quot;IDFM:10228&quot;</td><td>0</td><td>0</td><td>1</td><td>null</td><td>null</td><td>1</td></tr><tr><td>&quot;IDFM:ADP:5340-…</td><td>&quot;04:36:00&quot;</td><td>&quot;04:36:00&quot;</td><td>&quot;IDFM:10228&quot;</td><td>9</td><td>1</td><td>0</td><td>null</td><td>null</td><td>1</td></tr><tr><td>&quot;IDFM:ADP:5340-…</td><td>&quot;04:28:00&quot;</td><td>&quot;04:28:00&quot;</td><td>&quot;IDFM:10228&quot;</td><td>0</td><td>0</td><td>1</td><td>null</td><td>null</td><td>1</td></tr><tr><td>&quot;IDFM:ADP:5340-…</td><td>&quot;04:43:00&quot;</td><td>&quot;04:43:00&quot;</td><td>&quot;IDFM:10228&quot;</td><td>9</td><td>1</td><td>0</td><td>null</td><td>null</td><td>1</td></tr><tr><td>&quot;IDFM:ADP:5340-…</td><td>&quot;04:35:00&quot;</td><td>&quot;04:35:00&quot;</td><td>&quot;IDFM:10228&quot;</td><td>0</td><td>0</td><td>1</td><td>null</td><td>null</td><td>1</td></tr><tr><td>&quot;IDFM:ADP:5340-…</td><td>&quot;04:50:00&quot;</td><td>&quot;04:50:00&quot;</td><td>&quot;IDFM:10228&quot;</td><td>9</td><td>1</td><td>0</td><td>null</td><td>null</td><td>1</td></tr><tr><td>&hellip;</td><td>&hellip;</td><td>&hellip;</td><td>&hellip;</td><td>&hellip;</td><td>&hellip;</td><td>&hellip;</td><td>&hellip;</td><td>&hellip;</td><td>&hellip;</td></tr><tr><td>&quot;IDFM:stif:loca…</td><td>&quot;19:30:00&quot;</td><td>&quot;19:30:00&quot;</td><td>&quot;IDFM:477829&quot;</td><td>0</td><td>0</td><td>1</td><td>null</td><td>null</td><td>1</td></tr><tr><td>&quot;IDFM:stif:loca…</td><td>&quot;19:54:00&quot;</td><td>&quot;19:54:00&quot;</td><td>&quot;IDFM:477829&quot;</td><td>15</td><td>0</td><td>0</td><td>null</td><td>null</td><td>1</td></tr><tr><td>&quot;IDFM:stif:loca…</td><td>&quot;20:00:00&quot;</td><td>&quot;20:00:00&quot;</td><td>&quot;IDFM:477829&quot;</td><td>20</td><td>1</td><td>0</td><td>null</td><td>null</td><td>1</td></tr><tr><td>&quot;IDFM:stif:loca…</td><td>&quot;20:00:00&quot;</td><td>&quot;20:00:00&quot;</td><td>&quot;IDFM:477829&quot;</td><td>0</td><td>0</td><td>1</td><td>null</td><td>null</td><td>1</td></tr><tr><td>&quot;IDFM:stif:loca…</td><td>&quot;20:24:00&quot;</td><td>&quot;20:24:00&quot;</td><td>&quot;IDFM:477829&quot;</td><td>15</td><td>0</td><td>0</td><td>null</td><td>null</td><td>1</td></tr><tr><td>&quot;IDFM:stif:loca…</td><td>&quot;20:30:00&quot;</td><td>&quot;20:30:00&quot;</td><td>&quot;IDFM:477829&quot;</td><td>20</td><td>1</td><td>0</td><td>null</td><td>null</td><td>1</td></tr><tr><td>&quot;IDFM:stif:loca…</td><td>&quot;20:30:00&quot;</td><td>&quot;20:30:00&quot;</td><td>&quot;IDFM:477829&quot;</td><td>0</td><td>0</td><td>1</td><td>null</td><td>null</td><td>1</td></tr><tr><td>&quot;IDFM:stif:loca…</td><td>&quot;20:54:00&quot;</td><td>&quot;20:54:00&quot;</td><td>&quot;IDFM:477829&quot;</td><td>15</td><td>0</td><td>0</td><td>null</td><td>null</td><td>1</td></tr><tr><td>&quot;IDFM:stif:loca…</td><td>&quot;21:00:00&quot;</td><td>&quot;21:00:00&quot;</td><td>&quot;IDFM:477829&quot;</td><td>20</td><td>1</td><td>0</td><td>null</td><td>null</td><td>1</td></tr><tr><td>&quot;IDFM:stif:loca…</td><td>&quot;21:00:00&quot;</td><td>&quot;21:00:00&quot;</td><td>&quot;IDFM:477829&quot;</td><td>0</td><td>0</td><td>1</td><td>null</td><td>null</td><td>1</td></tr><tr><td>&quot;IDFM:stif:loca…</td><td>&quot;21:24:00&quot;</td><td>&quot;21:24:00&quot;</td><td>&quot;IDFM:477829&quot;</td><td>15</td><td>0</td><td>0</td><td>null</td><td>null</td><td>1</td></tr><tr><td>&quot;IDFM:stif:loca…</td><td>&quot;21:30:00&quot;</td><td>&quot;21:30:00&quot;</td><td>&quot;IDFM:477829&quot;</td><td>20</td><td>1</td><td>0</td><td>null</td><td>null</td><td>1</td></tr></tbody></table></div>"
      ],
      "text/plain": [
       "shape: (16_553, 10)\n",
       "┌───────────┬───────────┬───────────┬───────────┬───┬───────────┬───────────┬───────────┬──────────┐\n",
       "│ trip_id   ┆ arrival_t ┆ departure ┆ stop_id   ┆ … ┆ drop_off_ ┆ local_zon ┆ stop_head ┆ timepoin │\n",
       "│ ---       ┆ ime       ┆ _time     ┆ ---       ┆   ┆ type      ┆ e_id      ┆ sign      ┆ t        │\n",
       "│ str       ┆ ---       ┆ ---       ┆ str       ┆   ┆ ---       ┆ ---       ┆ ---       ┆ ---      │\n",
       "│           ┆ str       ┆ str       ┆           ┆   ┆ i64       ┆ str       ┆ str       ┆ i64      │\n",
       "╞═══════════╪═══════════╪═══════════╪═══════════╪═══╪═══════════╪═══════════╪═══════════╪══════════╡\n",
       "│ IDFM:ADP: ┆ 04:00:00  ┆ 04:00:00  ┆ IDFM:1022 ┆ … ┆ 1         ┆ null      ┆ null      ┆ 1        │\n",
       "│ 5340-C005 ┆           ┆           ┆ 8         ┆   ┆           ┆           ┆           ┆          │\n",
       "│ 62-761    ┆           ┆           ┆           ┆   ┆           ┆           ┆           ┆          │\n",
       "│ IDFM:ADP: ┆ 04:15:00  ┆ 04:15:00  ┆ IDFM:1022 ┆ … ┆ 0         ┆ null      ┆ null      ┆ 1        │\n",
       "│ 5340-C005 ┆           ┆           ┆ 8         ┆   ┆           ┆           ┆           ┆          │\n",
       "│ 62-761    ┆           ┆           ┆           ┆   ┆           ┆           ┆           ┆          │\n",
       "│ IDFM:ADP: ┆ 04:07:00  ┆ 04:07:00  ┆ IDFM:1022 ┆ … ┆ 1         ┆ null      ┆ null      ┆ 1        │\n",
       "│ 5340-C005 ┆           ┆           ┆ 8         ┆   ┆           ┆           ┆           ┆          │\n",
       "│ 62-762    ┆           ┆           ┆           ┆   ┆           ┆           ┆           ┆          │\n",
       "│ IDFM:ADP: ┆ 04:22:00  ┆ 04:22:00  ┆ IDFM:1022 ┆ … ┆ 0         ┆ null      ┆ null      ┆ 1        │\n",
       "│ 5340-C005 ┆           ┆           ┆ 8         ┆   ┆           ┆           ┆           ┆          │\n",
       "│ 62-762    ┆           ┆           ┆           ┆   ┆           ┆           ┆           ┆          │\n",
       "│ …         ┆ …         ┆ …         ┆ …         ┆ … ┆ …         ┆ …         ┆ …         ┆ …        │\n",
       "│ IDFM:stif ┆ 21:00:00  ┆ 21:00:00  ┆ IDFM:4778 ┆ … ┆ 0         ┆ null      ┆ null      ┆ 1        │\n",
       "│ :local-98 ┆           ┆           ┆ 29        ┆   ┆           ┆           ┆           ┆          │\n",
       "│ 405-C0230 ┆           ┆           ┆           ┆   ┆           ┆           ┆           ┆          │\n",
       "│ 4-626…    ┆           ┆           ┆           ┆   ┆           ┆           ┆           ┆          │\n",
       "│ IDFM:stif ┆ 21:00:00  ┆ 21:00:00  ┆ IDFM:4778 ┆ … ┆ 1         ┆ null      ┆ null      ┆ 1        │\n",
       "│ :local-98 ┆           ┆           ┆ 29        ┆   ┆           ┆           ┆           ┆          │\n",
       "│ 405-C0230 ┆           ┆           ┆           ┆   ┆           ┆           ┆           ┆          │\n",
       "│ 4-626…    ┆           ┆           ┆           ┆   ┆           ┆           ┆           ┆          │\n",
       "│ IDFM:stif ┆ 21:24:00  ┆ 21:24:00  ┆ IDFM:4778 ┆ … ┆ 0         ┆ null      ┆ null      ┆ 1        │\n",
       "│ :local-98 ┆           ┆           ┆ 29        ┆   ┆           ┆           ┆           ┆          │\n",
       "│ 405-C0230 ┆           ┆           ┆           ┆   ┆           ┆           ┆           ┆          │\n",
       "│ 4-626…    ┆           ┆           ┆           ┆   ┆           ┆           ┆           ┆          │\n",
       "│ IDFM:stif ┆ 21:30:00  ┆ 21:30:00  ┆ IDFM:4778 ┆ … ┆ 0         ┆ null      ┆ null      ┆ 1        │\n",
       "│ :local-98 ┆           ┆           ┆ 29        ┆   ┆           ┆           ┆           ┆          │\n",
       "│ 405-C0230 ┆           ┆           ┆           ┆   ┆           ┆           ┆           ┆          │\n",
       "│ 4-626…    ┆           ┆           ┆           ┆   ┆           ┆           ┆           ┆          │\n",
       "└───────────┴───────────┴───────────┴───────────┴───┴───────────┴───────────┴───────────┴──────────┘"
      ]
     },
     "execution_count": 62,
     "metadata": {},
     "output_type": "execute_result"
    }
   ],
   "source": [
    "stop_t.filter(pl.struct(['trip_id', 'stop_id']).is_duplicated()).sort(by=['trip_id', 'stop_id', 'arrival_time'])"
   ]
  },
  {
   "cell_type": "markdown",
   "metadata": {},
   "source": [
    "What are the meaning of the changing columns ? stop_sequence : numéro d'ordre d'arret de la course, pickup_type\t: possibilité ou non de monter, drop_off_type : possibilité ou non de descendre"
   ]
  },
  {
   "cell_type": "markdown",
   "metadata": {},
   "source": [
    "What are even trip_ids ? Let's see inside the trip.txt file"
   ]
  },
  {
   "cell_type": "markdown",
   "metadata": {},
   "source": [
    "# trips.txt"
   ]
  },
  {
   "cell_type": "code",
   "execution_count": 66,
   "metadata": {},
   "outputs": [],
   "source": [
    "trips = pl.read_csv('IDFM-gtfs/trips.txt', separator=',', n_rows=1000)"
   ]
  },
  {
   "cell_type": "code",
   "execution_count": 75,
   "metadata": {},
   "outputs": [
    {
     "name": "stdout",
     "output_type": "stream",
     "text": [
      "Rows: 324058\n",
      "Columns: 10\n",
      "$ route_id              <str> 'IDFM:C01740', 'IDFM:C01740', 'IDFM:C01740', 'IDFM:C01740', 'IDFM:C01740', 'IDFM:C01740', 'IDFM:C01740', 'IDFM:C01740', 'IDFM:C01740', 'IDFM:C01740'\n",
      "$ service_id            <str> 'IDFM:TN:003704bf-64ed-39e3-b539-089843a0f572', 'IDFM:TN:003704bf-64ed-39e3-b539-089843a0f572', 'IDFM:TN:003704bf-64ed-39e3-b539-089843a0f572', 'IDFM:TN:003704bf-64ed-39e3-b539-089843a0f572', 'IDFM:TN:003704bf-64ed-39e3-b539-089843a0f572', 'IDFM:TN:003704bf-64ed-39e3-b539-089843a0f572', 'IDFM:TN:003704bf-64ed-39e3-b539-089843a0f572', 'IDFM:TN:003704bf-64ed-39e3-b539-089843a0f572', 'IDFM:TN:003704bf-64ed-39e3-b539-089843a0f572', 'IDFM:TN:003704bf-64ed-39e3-b539-089843a0f572'\n",
      "$ trip_id               <str> 'IDFM:TN:SNCF:9d68d0f4-c7cf-40de-8095-641cd642d1b0', 'IDFM:TN:SNCF:4521fae6-46e9-4298-955a-57cbc5c9ee98', 'IDFM:TN:SNCF:a295e58b-19d5-4269-9706-7d96d12d74e5', 'IDFM:TN:SNCF:902bc3da-0114-4115-aea2-596039adb6ec', 'IDFM:TN:SNCF:7eb4b422-0033-440e-92b1-1c5f674d3f04', 'IDFM:TN:SNCF:bd9c1095-9f22-44b0-9155-6d65e7f6009f', 'IDFM:TN:SNCF:c7639582-d650-48a5-9e85-ffcfe3eb9071', 'IDFM:TN:SNCF:f8d35b52-253c-414b-b591-2529edf0f3cd', 'IDFM:TN:SNCF:e7d14dea-3fa4-40eb-ad9b-96c3e29b48e2', 'IDFM:TN:SNCF:9a9e5ba5-f734-4533-bf14-6bae0a411c91'\n",
      "$ trip_headsign         <str> 'PASA', 'VASA', 'VASA', 'VASA', 'VASA', 'PASA', 'POVA', 'VASA', 'PASA', 'VASA'\n",
      "$ trip_short_name       <i64> 133668, 133529, 133553, 133473, 133637, 133700, 133420, 133631, 133638, 133573\n",
      "$ direction_id          <i64> 1, 1, 1, 1, 1, 1, 1, 1, 1, 1\n",
      "$ block_id              <str> None, None, None, None, None, None, None, None, None, None\n",
      "$ shape_id              <str> None, None, None, None, None, None, None, None, None, None\n",
      "$ wheelchair_accessible <i64> 1, 1, 1, 1, 1, 1, 1, 1, 1, 1\n",
      "$ bikes_allowed         <i64> 0, 0, 0, 0, 0, 0, 0, 0, 0, 0\n",
      "\n"
     ]
    }
   ],
   "source": [
    "trips.glimpse()"
   ]
  },
  {
   "cell_type": "code",
   "execution_count": 71,
   "metadata": {},
   "outputs": [],
   "source": [
    "trips = pl.read_csv('IDFM-gtfs/trips.txt', separator=',', ignore_errors=True) # last row is empty "
   ]
  },
  {
   "cell_type": "code",
   "execution_count": 74,
   "metadata": {},
   "outputs": [
    {
     "data": {
      "text/plain": [
       "324058"
      ]
     },
     "execution_count": 74,
     "metadata": {},
     "output_type": "execute_result"
    }
   ],
   "source": [
    "trips.select(['trip_id']).n_unique()"
   ]
  },
  {
   "cell_type": "markdown",
   "metadata": {},
   "source": [
    "trip_id is the primary key"
   ]
  },
  {
   "cell_type": "code",
   "execution_count": 76,
   "metadata": {},
   "outputs": [
    {
     "data": {
      "text/plain": [
       "722"
      ]
     },
     "execution_count": 76,
     "metadata": {},
     "output_type": "execute_result"
    }
   ],
   "source": [
    "trips.select(['service_id']).n_unique()"
   ]
  },
  {
   "cell_type": "code",
   "execution_count": null,
   "metadata": {},
   "outputs": [],
   "source": [
    "Pour une route(ligne) donnée, il a plusieurs trips (parcours) possibles. Vérifions cela pour un cas particulier, la ligne B du RER."
   ]
  },
  {
   "cell_type": "code",
   "execution_count": 94,
   "metadata": {},
   "outputs": [
    {
     "data": {
      "text/plain": [
       "3209"
      ]
     },
     "execution_count": 94,
     "metadata": {},
     "output_type": "execute_result"
    }
   ],
   "source": [
    "# ligne_b is a substring of route_id\n",
    "# How many different trips for line B ?\n",
    "trips.filter(pl.col('route_id').str.contains(line_b)).select(['trip_id']).n_unique()"
   ]
  },
  {
   "cell_type": "code",
   "execution_count": 98,
   "metadata": {},
   "outputs": [
    {
     "name": "stdout",
     "output_type": "stream",
     "text": [
      "Rows: 3209\n",
      "Columns: 1\n",
      "$ trip_id <str> 'IDFM:TN:SNCF:001cb759-ef2a-4264-adca-051689614aa3', 'IDFM:TN:SNCF:00202fe9-825c-40a2-988f-a59ff1df63c1', 'IDFM:TN:SNCF:0028f19e-8758-4380-8290-d5eb44206db7', 'IDFM:TN:SNCF:0053481c-9b20-4459-9c49-2bd78486fc8d', 'IDFM:TN:SNCF:00718c5a-1e22-4673-83d2-26e7ce7444ff', 'IDFM:TN:SNCF:0078afab-35ce-47ef-9cd6-a48b6453eccc', 'IDFM:TN:SNCF:0087eddb-49a7-466b-8da8-116ce66317c1', 'IDFM:TN:SNCF:008d9898-3e75-463b-a48f-abb47083eb2f', 'IDFM:TN:SNCF:00c982e8-8ac8-4bf6-a280-6d0ddee14f7d', 'IDFM:TN:SNCF:00cfcdd1-e95a-4e15-9c91-fec3dafaf622'\n",
      "\n"
     ]
    }
   ],
   "source": [
    "# That's a lot. Maybe same itinary on different time are two different trips ? Let's take one trip_id and see if there are multiple arrival_times possible\n",
    "trips.filter(pl.col('route_id').str.contains(line_b)).select(['trip_id']).sort(by='trip_id').glimpse()"
   ]
  },
  {
   "cell_type": "code",
   "execution_count": 100,
   "metadata": {},
   "outputs": [
    {
     "name": "stdout",
     "output_type": "stream",
     "text": [
      "Rows: 33\n",
      "Columns: 1\n",
      "$ arrival_time <str> '17:37:02', '17:38:45', '17:40:52', '17:43:21', '17:45:12', '17:47:24', '17:50:54', '17:52:29', '17:54:30', '17:56:21'\n",
      "\n"
     ]
    }
   ],
   "source": [
    "# for trip_id = \"IDFM:TN:SNCF:001cb759-ef2a-4264-adca-051689614aa3\" , let's see in stop_times.txt if there are multiple arrival_time\n",
    "stop_t.filter(pl.col('trip_id') == \"IDFM:TN:SNCF:001cb759-ef2a-4264-adca-051689614aa3\").select(['arrival_time']).sort(by='arrival_time').glimpse()"
   ]
  },
  {
   "cell_type": "code",
   "execution_count": 35,
   "metadata": {},
   "outputs": [
    {
     "data": {
      "text/html": [
       "<div><style>\n",
       ".dataframe > thead > tr,\n",
       ".dataframe > tbody > tr {\n",
       "  text-align: right;\n",
       "  white-space: pre-wrap;\n",
       "}\n",
       "</style>\n",
       "<small>shape: (324_058, 1)</small><table border=\"1\" class=\"dataframe\"><thead><tr><th>trip_id</th></tr><tr><td>str</td></tr></thead><tbody><tr><td>&quot;IDFM:KABS:1159…</td></tr><tr><td>&quot;IDFM:KSOE:1071…</td></tr><tr><td>&quot;IDFM:RATP:1076…</td></tr><tr><td>&quot;IDFM:TICE:1137…</td></tr><tr><td>&quot;IDFM:RATP:1075…</td></tr><tr><td>&quot;IDFM:RATP:1074…</td></tr><tr><td>&quot;IDFM:RATP:1164…</td></tr><tr><td>&quot;IDFM:RATP:1077…</td></tr><tr><td>&quot;IDFM:TN:SNCF:c…</td></tr><tr><td>&quot;IDFM:KOVM:1068…</td></tr><tr><td>&quot;IDFM:RATP:1095…</td></tr><tr><td>&quot;IDFM:RATP:1075…</td></tr><tr><td>&hellip;</td></tr><tr><td>&quot;IDFM:RATP:1164…</td></tr><tr><td>&quot;IDFM:RATP:1076…</td></tr><tr><td>&quot;IDFM:RATP:1075…</td></tr><tr><td>&quot;IDFM:TRANSDEV_…</td></tr><tr><td>&quot;IDFM:RATP:1077…</td></tr><tr><td>&quot;IDFM:BOUCLE_DE…</td></tr><tr><td>&quot;IDFM:TRANSDEV_…</td></tr><tr><td>&quot;IDFM:RATP:1149…</td></tr><tr><td>&quot;IDFM:BRIE_ET_2…</td></tr><tr><td>&quot;IDFM:RATP:1075…</td></tr><tr><td>&quot;IDFM:RATP:1074…</td></tr><tr><td>&quot;IDFM:TN:SNCF:3…</td></tr></tbody></table></div>"
      ],
      "text/plain": [
       "shape: (324_058, 1)\n",
       "┌───────────────────────────────────┐\n",
       "│ trip_id                           │\n",
       "│ ---                               │\n",
       "│ str                               │\n",
       "╞═══════════════════════════════════╡\n",
       "│ IDFM:KABS:115968-C01681-3628-288  │\n",
       "│ IDFM:KSOE:107153-C02566-1501-257  │\n",
       "│ IDFM:RATP:107659-C01318-COU_RATP… │\n",
       "│ IDFM:TICE:113791-C01628-3701-288  │\n",
       "│ …                                 │\n",
       "│ IDFM:BRIE_ET_2_MORIN:112981-C010… │\n",
       "│ IDFM:RATP:107593-C01159-COU_RATP… │\n",
       "│ IDFM:RATP:107474-C01084-COU_RATP… │\n",
       "│ IDFM:TN:SNCF:3577f92a-a20f-466a-… │\n",
       "└───────────────────────────────────┘"
      ]
     },
     "execution_count": 35,
     "metadata": {},
     "output_type": "execute_result"
    }
   ],
   "source": [
    "# Actually, this might be for different date. We really need to create the whole consolidated dataframe. "
   ]
  },
  {
   "cell_type": "code",
   "execution_count": 101,
   "metadata": {},
   "outputs": [
    {
     "ename": "NameError",
     "evalue": "name 'dsds' is not defined",
     "output_type": "error",
     "traceback": [
      "\u001b[0;31m---------------------------------------------------------------------------\u001b[0m",
      "\u001b[0;31mNameError\u001b[0m                                 Traceback (most recent call last)",
      "\u001b[1;32m/root/transit_data_project/EDA_IDFM-gtfs.ipynb Cell 27\u001b[0m line \u001b[0;36m1\n\u001b[0;32m----> <a href='vscode-notebook-cell://wsl%2Bubuntu/root/transit_data_project/EDA_IDFM-gtfs.ipynb#X10sdnNjb2RlLXJlbW90ZQ%3D%3D?line=0'>1</a>\u001b[0m dsds\n",
      "\u001b[0;31mNameError\u001b[0m: name 'dsds' is not defined"
     ]
    },
    {
     "ename": "",
     "evalue": "",
     "output_type": "error",
     "traceback": [
      "\u001b[1;31mThe Kernel crashed while executing code in the the current cell or a previous cell. Please review the code in the cell(s) to identify a possible cause of the failure. Click <a href='https://aka.ms/vscodeJupyterKernelCrash'>here</a> for more info. View Jupyter <a href='command:jupyter.viewOutput'>log</a> for further details."
     ]
    }
   ],
   "source": []
  },
  {
   "cell_type": "code",
   "execution_count": null,
   "metadata": {},
   "outputs": [],
   "source": []
  }
 ],
 "metadata": {
  "kernelspec": {
   "display_name": ".transit_env",
   "language": "python",
   "name": "python3"
  },
  "language_info": {
   "codemirror_mode": {
    "name": "ipython",
    "version": 3
   },
   "file_extension": ".py",
   "mimetype": "text/x-python",
   "name": "python",
   "nbconvert_exporter": "python",
   "pygments_lexer": "ipython3",
   "version": "3.10.12"
  }
 },
 "nbformat": 4,
 "nbformat_minor": 2
}
